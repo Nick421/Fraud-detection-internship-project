{
 "cells": [
  {
   "cell_type": "code",
   "execution_count": null,
   "metadata": {},
   "outputs": [],
   "source": [
    "import pandas as pd\n",
    "import numpy as np\n",
    "from sklearn.cluster import DBSCAN\n",
    "from sklearn.decomposition import PCA\n",
    "from sklearn.preprocessing import StandardScaler\n",
    "import matplotlib.pyplot as plt\n",
    "from matplotlib import style\n",
    "from scipy import arange\n",
    "style.use('fivethirtyeight')\n",
    "%matplotlib inline"
   ]
  },
  {
   "cell_type": "code",
   "execution_count": null,
   "metadata": {},
   "outputs": [],
   "source": [
    "df = pd.read_excel('dbscan.xlsx',sheet_name='Sheet1')"
   ]
  },
  {
   "cell_type": "code",
   "execution_count": null,
   "metadata": {},
   "outputs": [],
   "source": [
    "df.head()"
   ]
  },
  {
   "cell_type": "code",
   "execution_count": null,
   "metadata": {},
   "outputs": [],
   "source": [
    "# set index to account number and month\n",
    "df = df.set_index(['',''])"
   ]
  },
  {
   "cell_type": "code",
   "execution_count": null,
   "metadata": {},
   "outputs": [],
   "source": [
    "# check for blank entries\n",
    "df = df.replace('NONE',np.nan)\n",
    "df = df.replace('-', np.nan)\n",
    "df = df.dropna()"
   ]
  },
  {
   "cell_type": "code",
   "execution_count": null,
   "metadata": {},
   "outputs": [],
   "source": [
    "len(df)"
   ]
  },
  {
   "cell_type": "code",
   "execution_count": null,
   "metadata": {},
   "outputs": [],
   "source": [
    "df"
   ]
  },
  {
   "cell_type": "code",
   "execution_count": null,
   "metadata": {},
   "outputs": [],
   "source": [
    "table = dict.fromkeys([0.05,0.10,0.15,0.20,0.25,0.30,0.35,0.40,0.45,0.50,\n",
    "                       1.00,1.5,2.00,2.5,3.00,3.5,4.00,4.5,5.00])"
   ]
  },
  {
   "cell_type": "code",
   "execution_count": null,
   "metadata": {},
   "outputs": [],
   "source": [
    "for i in arange(0.05, 0.55, 0.05):\n",
    "    \n",
    "    dbscan = DBSCAN(eps=i, min_samples=500, n_jobs=-1)\n",
    "    scaler = StandardScaler()\n",
    "    scaled_data1 = scaler.fit_transform(df)\n",
    "    dbscan.fit(scaled_data1.data)\n",
    "\n",
    "    labels = dbscan.labels_\n",
    "\n",
    "    n_clusters_ = len(set(labels)) - (1 if -1 in labels else 0)\n",
    "    n_0 = list(labels).count(0)\n",
    "    n_1 = list(labels).count(1)\n",
    "    n_noise_ = list(labels).count(-1)\n",
    "    \n",
    "    insert = [n_clusters_ ,n_noise_ , n_0 , n_1]\n",
    "    table[i] = insert\n",
    "    \n",
    "    print('Using epsilon of: %f' % i)\n",
    "    print('Estimated number of clusters: %d' % n_clusters_)\n",
    "    print('Estimated number of 0: %d' % n_0)\n",
    "    print('Estimated number of 1: %d' % n_1)\n",
    "    print('Estimated number of noise points: %d' % n_noise_)\n"
   ]
  },
  {
   "cell_type": "code",
   "execution_count": null,
   "metadata": {},
   "outputs": [],
   "source": [
    "\n",
    "i = 1.5\n",
    "dbscan = DBSCAN(eps=i, min_samples=100, n_jobs=-1)\n",
    "scaler = StandardScaler()\n",
    "scaled_data1 = scaler.fit_transform(df)\n",
    "dbscan.fit(scaled_data1.data)\n",
    "labels = dbscan.labels_\n",
    "\n",
    "n_clusters_ = len(set(labels)) - (1 if -1 in labels else 0)\n",
    "n_0 = list(labels).count(0)\n",
    "n_1 = list(labels).count(1)\n",
    "n_noise_ = list(labels).count(-1)\n",
    "    \n",
    "insert = [n_clusters_ ,n_noise_ , n_0 , n_1]\n",
    "table[i] = insert"
   ]
  },
  {
   "cell_type": "markdown",
   "metadata": {},
   "source": [
    "| eps | n_clusters | n_noise | n_0 | n_1 |\n",
    "| --- | --- | --- | --- | --- |\n",
    "| 0.05 | 2 | 129429|64206 |7197 |\n",
    "| 0.10 | 2 | 98021 |95537 |7274 |\n",
    "| 0.15 | 3 | 94270 |98083 |7345 |\n",
    "| 0.20 | 3 | 81577| 99976 |7454 |\n",
    "| 0.25 | 2 | 68635| 124638 |7559|\n",
    "| 0.30 | 2 | 59548| 133638| 7646|\n",
    "| 0.35 | 4 | 48079| 140451| 7742|\n",
    "| 0.40 | 2 | 35608| 157331| 7893|\n",
    "| 0.45 | 2 | 29330| 163447| 8055|\n",
    "| 0.50 | 2 | 25247| 167496| 8089|\n",
    "| 1.0  | | | |  |\n",
    "| 1.5  | 2 | 1703| 198953| 176|"
   ]
  },
  {
   "cell_type": "code",
   "execution_count": null,
   "metadata": {},
   "outputs": [],
   "source": [
    "table[0.15]=[3, 94270, 98083, 7345]\n",
    "table[0.35]=[4, 48079, 140451, 7742]"
   ]
  },
  {
   "cell_type": "code",
   "execution_count": null,
   "metadata": {},
   "outputs": [],
   "source": [
    "table"
   ]
  },
  {
   "cell_type": "code",
   "execution_count": null,
   "metadata": {},
   "outputs": [],
   "source": [
    "df['clusters'] = labels"
   ]
  },
  {
   "cell_type": "code",
   "execution_count": null,
   "metadata": {},
   "outputs": [],
   "source": [
    "test = df[df['clusters'] == -1]"
   ]
  },
  {
   "cell_type": "code",
   "execution_count": null,
   "metadata": {},
   "outputs": [],
   "source": [
    "test = test.drop(columns='index')"
   ]
  },
  {
   "cell_type": "code",
   "execution_count": null,
   "metadata": {},
   "outputs": [],
   "source": [
    "test"
   ]
  },
  {
   "cell_type": "code",
   "execution_count": null,
   "metadata": {},
   "outputs": [],
   "source": [
    "test = test.reset_index()"
   ]
  },
  {
   "cell_type": "code",
   "execution_count": null,
   "metadata": {},
   "outputs": [],
   "source": [
    "# check if account numbe is unique\n",
    "len(test[''].unique())"
   ]
  },
  {
   "cell_type": "code",
   "execution_count": null,
   "metadata": {},
   "outputs": [],
   "source": [
    "train = df[df['clusters'] != -1]"
   ]
  },
  {
   "cell_type": "code",
   "execution_count": null,
   "metadata": {},
   "outputs": [],
   "source": [
    "train = train.drop(columns='index')"
   ]
  },
  {
   "cell_type": "code",
   "execution_count": null,
   "metadata": {},
   "outputs": [],
   "source": [
    "train"
   ]
  },
  {
   "cell_type": "code",
   "execution_count": null,
   "metadata": {},
   "outputs": [],
   "source": [
    "writer = pd.ExcelWriter('train_index.xlsx')\n",
    "train.to_excel(writer,'Sheet1',index=True)\n",
    "writer.save()"
   ]
  },
  {
   "cell_type": "code",
   "execution_count": null,
   "metadata": {},
   "outputs": [],
   "source": [
    "writer = pd.ExcelWriter('test_index.xlsx')\n",
    "test.to_excel(writer,'Sheet1',index=True)\n",
    "writer.save()"
   ]
  },
  {
   "cell_type": "code",
   "execution_count": null,
   "metadata": {},
   "outputs": [],
   "source": [
    "\n",
    "from sklearn.neighbors import NearestNeighbors\n",
    "neigh = NearestNeighbors(n_neighbors=5, n_jobs=-1)\n",
    "neigh.fit(train)"
   ]
  },
  {
   "cell_type": "code",
   "execution_count": null,
   "metadata": {},
   "outputs": [],
   "source": [
    "knn_dist, knn_ind = neigh.kneighbors(test, return_distance=True) "
   ]
  },
  {
   "cell_type": "code",
   "execution_count": null,
   "metadata": {},
   "outputs": [],
   "source": [
    "len(knn_dist)"
   ]
  },
  {
   "cell_type": "code",
   "execution_count": null,
   "metadata": {},
   "outputs": [],
   "source": [
    "np.set_printoptions(threshold=1000)"
   ]
  },
  {
   "cell_type": "code",
   "execution_count": null,
   "metadata": {},
   "outputs": [],
   "source": [
    "count = 0\n",
    "avg = [] \n",
    "for val in knn_dist:\n",
    "    #avg = np.average(val)\n",
    "    #print(avg)\n",
    "    avg.append(np.average(val))\n",
    "    count += 1"
   ]
  },
  {
   "cell_type": "code",
   "execution_count": null,
   "metadata": {},
   "outputs": [],
   "source": [
    "len(avg)"
   ]
  },
  {
   "cell_type": "code",
   "execution_count": null,
   "metadata": {},
   "outputs": [],
   "source": [
    "test['AVG_distance'] = avg"
   ]
  },
  {
   "cell_type": "code",
   "execution_count": null,
   "metadata": {},
   "outputs": [],
   "source": [
    "test[[\"AVG_distance\"]].sort_values([\"AVG_distance\"], ascending=False)"
   ]
  },
  {
   "cell_type": "code",
   "execution_count": null,
   "metadata": {},
   "outputs": [],
   "source": [
    "knn_ind"
   ]
  },
  {
   "cell_type": "code",
   "execution_count": null,
   "metadata": {},
   "outputs": [],
   "source": [
    "points = pd.DataFrame(knn_ind)"
   ]
  },
  {
   "cell_type": "code",
   "execution_count": null,
   "metadata": {},
   "outputs": [],
   "source": [
    "points"
   ]
  },
  {
   "cell_type": "code",
   "execution_count": null,
   "metadata": {},
   "outputs": [],
   "source": [
    "neighbour1 = points.iloc[:,0]\n",
    "neighbour1 = pd.DataFrame(neighbour1)\n",
    "\n",
    "neighbour2 = points.iloc[:,1]\n",
    "neighbour2 = pd.DataFrame(neighbour2)\n",
    "\n",
    "neighbour3 = points.iloc[:,2]\n",
    "neighbour3 = pd.DataFrame(neighbour3)\n",
    "\n",
    "neighbour4 = points.iloc[:,3]\n",
    "neighbour4 = pd.DataFrame(neighbour4)\n",
    "\n",
    "neighbour5 = points.iloc[:,4]\n",
    "neighbour5 = pd.DataFrame(neighbour5)"
   ]
  },
  {
   "cell_type": "code",
   "execution_count": null,
   "metadata": {},
   "outputs": [],
   "source": [
    "neighbour1"
   ]
  },
  {
   "cell_type": "code",
   "execution_count": null,
   "metadata": {},
   "outputs": [],
   "source": [
    "neighbour2"
   ]
  },
  {
   "cell_type": "code",
   "execution_count": null,
   "metadata": {},
   "outputs": [],
   "source": [
    "neighbour3"
   ]
  },
  {
   "cell_type": "code",
   "execution_count": null,
   "metadata": {},
   "outputs": [],
   "source": [
    "neighbour4"
   ]
  },
  {
   "cell_type": "code",
   "execution_count": null,
   "metadata": {},
   "outputs": [],
   "source": [
    "neighbour5"
   ]
  },
  {
   "cell_type": "code",
   "execution_count": null,
   "metadata": {},
   "outputs": [],
   "source": [
    "neighbour_feat = train.reset_index()"
   ]
  },
  {
   "cell_type": "code",
   "execution_count": null,
   "metadata": {},
   "outputs": [],
   "source": [
    "neighbour_feat"
   ]
  },
  {
   "cell_type": "markdown",
   "metadata": {},
   "source": [
    "## Join neighbour row number df with features on the same row number "
   ]
  },
  {
   "cell_type": "code",
   "execution_count": null,
   "metadata": {},
   "outputs": [],
   "source": [
    "neighbour1 = neighbour1.rename(columns={0: 'row number'})\n",
    "neighbour1 = neighbour1.set_index('row number')\n",
    "\n",
    "neighbour2 = neighbour2.rename(columns={1: 'row number'})\n",
    "neighbour2 = neighbour2.set_index('row number')\n",
    "\n",
    "neighbour3 = neighbour3.rename(columns={2: 'row number'})\n",
    "neighbour3 = neighbour3.set_index('row number')\n",
    "\n",
    "neighbour4 = neighbour4.rename(columns={3: 'row number'})\n",
    "neighbour4 = neighbour4.set_index('row number')\n",
    "\n",
    "neighbour5 = neighbour5.rename(columns={4: 'row number'})\n",
    "neighbour5 = neighbour5.set_index('row number')"
   ]
  },
  {
   "cell_type": "code",
   "execution_count": null,
   "metadata": {},
   "outputs": [],
   "source": [
    "neighbour1 = pd.concat([neighbour1, neighbour_feat],axis=1, join='inner')\n",
    "neighbour2 = pd.concat([neighbour2, neighbour_feat],axis=1, join='inner')\n",
    "neighbour3 = pd.concat([neighbour3, neighbour_feat],axis=1, join='inner')\n",
    "neighbour4 = pd.concat([neighbour4, neighbour_feat],axis=1, join='inner')\n",
    "neighbour5 = pd.concat([neighbour5, neighbour_feat],axis=1, join='inner')"
   ]
  },
  {
   "cell_type": "code",
   "execution_count": null,
   "metadata": {},
   "outputs": [],
   "source": [
    "neighbour1"
   ]
  },
  {
   "cell_type": "code",
   "execution_count": null,
   "metadata": {},
   "outputs": [],
   "source": [
    "neighbour2"
   ]
  },
  {
   "cell_type": "code",
   "execution_count": null,
   "metadata": {},
   "outputs": [],
   "source": [
    "neighbour3"
   ]
  },
  {
   "cell_type": "code",
   "execution_count": null,
   "metadata": {},
   "outputs": [],
   "source": [
    "neighbour4"
   ]
  },
  {
   "cell_type": "code",
   "execution_count": null,
   "metadata": {},
   "outputs": [],
   "source": [
    "neighbour5"
   ]
  },
  {
   "cell_type": "markdown",
   "metadata": {},
   "source": [
    "## Join all 5 neighbour frames"
   ]
  },
  {
   "cell_type": "code",
   "execution_count": null,
   "metadata": {},
   "outputs": [],
   "source": [
    "# join using same account number and month\n",
    "neighbour1 = neighbour1.reset_index()\n",
    "neighbour1 = neighbour1.rename(columns={'index': 'Neighbour_1', \n",
    "                                        '': '_1',\n",
    "                                        '': '_1',\n",
    "                                        'TOTALSPENDNORM': 'TOTALSPENDNORM_1',\n",
    "                                        'AVGSPENDNORM': 'AVGSPENDNORM_1',\n",
    "                                        'TRANSNUMNORM': 'TRANSNUMNORM_1',\n",
    "                                        'MAXSPENDNORM': 'MAXSPENDNORM_1',\n",
    "                                        'MAXEARNNORM': 'MAXEARNNORM_1',\n",
    "                                        'AVGEARNNORM': 'AVGEARNNORM_1',\n",
    "                                        'MAXBURNNORM': 'MAXBURNNORM_1',\n",
    "                                        'AVGBURNNORM': 'AVGBURNNORM_1',\n",
    "                                        'clusters': 'clusters_1'\n",
    "                                       })"
   ]
  },
  {
   "cell_type": "code",
   "execution_count": null,
   "metadata": {},
   "outputs": [],
   "source": [
    "neighbour1"
   ]
  },
  {
   "cell_type": "code",
   "execution_count": null,
   "metadata": {},
   "outputs": [],
   "source": [
    "# join using same account number and month\n",
    "neighbour2 = neighbour2.reset_index()\n",
    "neighbour2 = neighbour2.rename(columns={'index': 'Neighbour_2', \n",
    "                                        '': '_2',\n",
    "                                        '': '_2',\n",
    "                                        'TOTALSPENDNORM': 'TOTALSPENDNORM_2',\n",
    "                                        'AVGSPENDNORM': 'AVGSPENDNORM_2',\n",
    "                                        'TRANSNUMNORM': 'TRANSNUMNORM_2',\n",
    "                                        'MAXSPENDNORM': 'MAXSPENDNORM_2',\n",
    "                                        'MAXEARNNORM': 'MAXEARNNORM_2',\n",
    "                                        'AVGEARNNORM': 'AVGEARNNORM_2',\n",
    "                                        'MAXBURNNORM': 'MAXBURNNORM_2',\n",
    "                                        'AVGBURNNORM': 'AVGBURNNORM_2',\n",
    "                                        'clusters': 'clusters_2'\n",
    "                                       })"
   ]
  },
  {
   "cell_type": "code",
   "execution_count": null,
   "metadata": {},
   "outputs": [],
   "source": [
    "neighbour2"
   ]
  },
  {
   "cell_type": "code",
   "execution_count": null,
   "metadata": {},
   "outputs": [],
   "source": [
    "# join using same account number and month\n",
    "neighbour3 = neighbour3.reset_index()\n",
    "neighbour3 = neighbour3.rename(columns={'index': 'Neighbour_3', \n",
    "                                        '': '_3',\n",
    "                                        '': '_3',\n",
    "                                        'TOTALSPENDNORM': 'TOTALSPENDNORM_3',\n",
    "                                        'AVGSPENDNORM': 'AVGSPENDNORM_3',\n",
    "                                        'TRANSNUMNORM': 'TRANSNUMNORM_3',\n",
    "                                        'MAXSPENDNORM': 'MAXSPENDNORM_3',\n",
    "                                        'MAXEARNNORM': 'MAXEARNNORM_3',\n",
    "                                        'AVGEARNNORM': 'AVGEARNNORM_3',\n",
    "                                        'MAXBURNNORM': 'MAXBURNNORM_3',\n",
    "                                        'AVGBURNNORM': 'AVGBURNNORM_3',\n",
    "                                        'clusters': 'clusters_3'\n",
    "                                       })"
   ]
  },
  {
   "cell_type": "code",
   "execution_count": null,
   "metadata": {},
   "outputs": [],
   "source": [
    "neighbour3"
   ]
  },
  {
   "cell_type": "code",
   "execution_count": null,
   "metadata": {},
   "outputs": [],
   "source": [
    "# join using same account number and month\n",
    "neighbour4 = neighbour4.reset_index()\n",
    "neighbour4 = neighbour4.rename(columns={'index': 'Neighbour_4', \n",
    "                                        '': '_4',\n",
    "                                        '': '_4',\n",
    "                                        'TOTALSPENDNORM': 'TOTALSPENDNORM_4',\n",
    "                                        'AVGSPENDNORM': 'AVGSPENDNORM_4',\n",
    "                                        'TRANSNUMNORM': 'TRANSNUMNORM_4',\n",
    "                                        'MAXSPENDNORM': 'MAXSPENDNORM_4',\n",
    "                                        'MAXEARNNORM': 'MAXEARNNORM_4',\n",
    "                                        'AVGEARNNORM': 'AVGEARNNORM_4',\n",
    "                                        'MAXBURNNORM': 'MAXBURNNORM_4',\n",
    "                                        'AVGBURNNORM': 'AVGBURNNORM_4',\n",
    "                                        'clusters': 'clusters_4'\n",
    "                                       })"
   ]
  },
  {
   "cell_type": "code",
   "execution_count": null,
   "metadata": {},
   "outputs": [],
   "source": [
    "neighbour4"
   ]
  },
  {
   "cell_type": "code",
   "execution_count": null,
   "metadata": {},
   "outputs": [],
   "source": [
    "# join using same account number and month\n",
    "neighbour5 = neighbour5.reset_index()\n",
    "neighbour5 = neighbour5.rename(columns={'index': 'Neighbour_5', \n",
    "                                        '': '_5',\n",
    "                                        '': '_5',\n",
    "                                        'TOTALSPENDNORM': 'TOTALSPENDNORM_5',\n",
    "                                        'AVGSPENDNORM': 'AVGSPENDNORM_5',\n",
    "                                        'TRANSNUMNORM': 'TRANSNUMNORM_5',\n",
    "                                        'MAXSPENDNORM': 'MAXSPENDNORM_5',\n",
    "                                        'MAXEARNNORM': 'MAXEARNNORM_5',\n",
    "                                        'AVGEARNNORM': 'AVGEARNNORM_5',\n",
    "                                        'MAXBURNNORM': 'MAXBURNNORM_5',\n",
    "                                        'AVGBURNNORM': 'AVGBURNNORM_5',\n",
    "                                        'clusters': 'clusters_5'\n",
    "                                       })"
   ]
  },
  {
   "cell_type": "code",
   "execution_count": null,
   "metadata": {},
   "outputs": [],
   "source": [
    "neighbour5"
   ]
  },
  {
   "cell_type": "code",
   "execution_count": null,
   "metadata": {},
   "outputs": [],
   "source": [
    "neighbours = pd.concat([neighbour1,neighbour2,neighbour3,neighbour4,neighbour5], axis=1, sort=False)"
   ]
  },
  {
   "cell_type": "code",
   "execution_count": null,
   "metadata": {},
   "outputs": [],
   "source": [
    "neighbours"
   ]
  },
  {
   "cell_type": "code",
   "execution_count": null,
   "metadata": {},
   "outputs": [],
   "source": [
    "for i in range(1,6):\n",
    "    i = str(i)\n",
    "    neighbours = neighbours.drop(['Neighbour_'+i, 'ACCOUNTNUM_'+i, 'MONTH_'+i, 'clusters_'+i], axis=1)\n",
    "display(neighbours)"
   ]
  },
  {
   "cell_type": "markdown",
   "metadata": {},
   "source": [
    "## Join neighbours features with test frame"
   ]
  },
  {
   "cell_type": "code",
   "execution_count": null,
   "metadata": {},
   "outputs": [],
   "source": [
    "result = pd.concat([test.reset_index(), neighbours], axis=1)"
   ]
  },
  {
   "cell_type": "code",
   "execution_count": null,
   "metadata": {},
   "outputs": [],
   "source": [
    "test"
   ]
  },
  {
   "cell_type": "code",
   "execution_count": null,
   "metadata": {},
   "outputs": [],
   "source": [
    "result"
   ]
  },
  {
   "cell_type": "markdown",
   "metadata": {},
   "source": [
    "## find average from difference of test's feature - neighbours feature"
   ]
  },
  {
   "cell_type": "code",
   "execution_count": null,
   "metadata": {},
   "outputs": [],
   "source": [
    "result.pop('clusters')"
   ]
  },
  {
   "cell_type": "code",
   "execution_count": null,
   "metadata": {
    "scrolled": false
   },
   "outputs": [],
   "source": [
    "result.columns"
   ]
  },
  {
   "cell_type": "code",
   "execution_count": null,
   "metadata": {},
   "outputs": [],
   "source": [
    "# set index to account number and month\n",
    "to_process = result.set_index(['', ''])"
   ]
  },
  {
   "cell_type": "code",
   "execution_count": null,
   "metadata": {},
   "outputs": [],
   "source": [
    "for c in to_process.columns[:8]:\n",
    "    delta_f = (to_process[c]-to_process[c+'_1'])+(to_process[c]-to_process[c+'_2'])+(to_process[c]-to_process[c+'_3'])+(to_process[c]-to_process[c+'_4'])+(to_process[c]-to_process[c+'_5'])\n",
    "    avg_delta_f = delta_f / 5\n",
    "    to_process[c+'_avgdiff'] = avg_delta_f"
   ]
  },
  {
   "cell_type": "code",
   "execution_count": null,
   "metadata": {},
   "outputs": [],
   "source": [
    "to_process"
   ]
  },
  {
   "cell_type": "code",
   "execution_count": null,
   "metadata": {
    "scrolled": false
   },
   "outputs": [],
   "source": [
    "rank = to_process.iloc[:, [8,49,50,51,52,53,54,55,56]]"
   ]
  },
  {
   "cell_type": "markdown",
   "metadata": {},
   "source": [
    "## Rank features"
   ]
  },
  {
   "cell_type": "code",
   "execution_count": null,
   "metadata": {},
   "outputs": [],
   "source": [
    "rank"
   ]
  },
  {
   "cell_type": "code",
   "execution_count": null,
   "metadata": {},
   "outputs": [],
   "source": [
    "rank.sort_values('AVG_distance',ascending=False).filter(like='avgdiff').rank(axis=1, method='dense')"
   ]
  },
  {
   "cell_type": "code",
   "execution_count": null,
   "metadata": {},
   "outputs": [],
   "source": [
    "list(test.sort_values([\"AVG_distance\"], ascending=False).reset_index()['ACCOUNTNUM']).index('9200145768')"
   ]
  },
  {
   "cell_type": "code",
   "execution_count": null,
   "metadata": {},
   "outputs": [],
   "source": [
    "dbscan_top30 = rank.sort_values('AVG_distance',ascending=False).filter(like='avgdiff').rank(axis=1, method='dense').reset_index()"
   ]
  },
  {
   "cell_type": "code",
   "execution_count": null,
   "metadata": {},
   "outputs": [],
   "source": [
    "dbscan_top30 = dbscan_top10[0:30].reset_index()"
   ]
  },
  {
   "cell_type": "code",
   "execution_count": null,
   "metadata": {},
   "outputs": [],
   "source": [
    "dbscan_top30"
   ]
  },
  {
   "cell_type": "code",
   "execution_count": null,
   "metadata": {},
   "outputs": [],
   "source": [
    "writer = pd.ExcelWriter('dbscanTop30.xlsx')\n",
    "dbscan_top30.to_excel(writer,'Sheet1',index=True)\n",
    "writer.save()"
   ]
  },
  {
   "cell_type": "code",
   "execution_count": null,
   "metadata": {},
   "outputs": [],
   "source": [
    "dbscan_result = rank.sort_values('AVG_distance',ascending=False).filter(like='avgdiff').rank(axis=1, method='dense').reset_index()"
   ]
  },
  {
   "cell_type": "code",
   "execution_count": null,
   "metadata": {},
   "outputs": [],
   "source": [
    "dbscan_result = dbscan_result.reset_index()"
   ]
  },
  {
   "cell_type": "code",
   "execution_count": null,
   "metadata": {},
   "outputs": [],
   "source": [
    "dbscan_result"
   ]
  },
  {
   "cell_type": "code",
   "execution_count": null,
   "metadata": {},
   "outputs": [],
   "source": [
    "dbscan_result.head()"
   ]
  },
  {
   "cell_type": "code",
   "execution_count": null,
   "metadata": {},
   "outputs": [],
   "source": [
    "writer = pd.ExcelWriter('dbscan_result.xlsx')\n",
    "dbscan_result.to_excel(writer,'Sheet1',index=False)\n",
    "writer.save()"
   ]
  },
  {
   "cell_type": "code",
   "execution_count": null,
   "metadata": {},
   "outputs": [],
   "source": [
    "dbscan_result"
   ]
  }
 ],
 "metadata": {
  "kernelspec": {
   "display_name": "Python 3",
   "language": "python",
   "name": "python3"
  },
  "language_info": {
   "codemirror_mode": {
    "name": "ipython",
    "version": 3
   },
   "file_extension": ".py",
   "mimetype": "text/x-python",
   "name": "python",
   "nbconvert_exporter": "python",
   "pygments_lexer": "ipython3",
   "version": "3.6.5"
  }
 },
 "nbformat": 4,
 "nbformat_minor": 2
}
