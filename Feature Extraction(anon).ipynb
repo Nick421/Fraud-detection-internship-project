{
 "cells": [
  {
   "cell_type": "code",
   "execution_count": null,
   "metadata": {},
   "outputs": [],
   "source": [
    "import numpy as np\n",
    "import pandas as pd\n",
    "import ibm_db\n",
    "import ibm_db_dbi\n",
    "import matplotlib.pyplot as plt\n",
    "from matplotlib import style\n",
    "from scipy.stats import zscore\n",
    "style.use('fivethirtyeight')\n",
    "%matplotlib inline\n",
    "pd.set_option('display.max_colwidth',-1)"
   ]
  },
  {
   "cell_type": "code",
   "execution_count": null,
   "metadata": {},
   "outputs": [],
   "source": [
    "#values for database connection\n",
    "dsn_driver = \"IBM DB2 JDBC DRIVER\"\n",
    "dsn_database = \"BLUDB\"            \n",
    "dsn_hostname = \"\" # taken out for privacy\n",
    "dsn_port = \"50000\"                \n",
    "dsn_protocol = \"TCPIP\"          \n",
    "dsn_uid = \"\"        # taken out for privacy\n",
    "dsn_pwd = \"\"       # taken out for privacy\n",
    "dsn_schema = \"\"   # taken out for privacy"
   ]
  },
  {
   "cell_type": "code",
   "execution_count": null,
   "metadata": {},
   "outputs": [],
   "source": [
    "dsn = (\n",
    "    \"DRIVER={{IBM DB2 JDBC DRIVER}};\"\n",
    "    \"DATABASE={0};\"\n",
    "    \"HOSTNAME={1};\"\n",
    "    \"PORT={2};\"\n",
    "    \"PROTOCOL=TCPIP;\"\n",
    "    \"UID={3};\"\n",
    "    \"PWD={4};\"\n",
    "    \"CurrentSchema={5}\").format(dsn_database, dsn_hostname, dsn_port, dsn_uid, dsn_pwd, dsn_schema)\n",
    "\n",
    "conn = ibm_db.connect(dsn, \"\", \"\")\n",
    "conn_wrap = ibm_db_dbi.Connection(conn)"
   ]
  },
  {
   "cell_type": "markdown",
   "metadata": {},
   "source": [
    "# Read excel file for earn clean data"
   ]
  },
  {
   "cell_type": "code",
   "execution_count": null,
   "metadata": {},
   "outputs": [],
   "source": [
    "df = pd.read_excel('clean_df.xlsx',sheet_name='Sheet1')"
   ]
  },
  {
   "cell_type": "code",
   "execution_count": null,
   "metadata": {},
   "outputs": [],
   "source": [
    "df.columns"
   ]
  },
  {
   "cell_type": "code",
   "execution_count": null,
   "metadata": {},
   "outputs": [],
   "source": [
    "# filter out any negative sales amount\n",
    "df = df[df[' '] > 0] "
   ]
  },
  {
   "cell_type": "code",
   "execution_count": null,
   "metadata": {},
   "outputs": [],
   "source": [
    "# sanity check\n",
    "df[df[' '] < 0]"
   ]
  },
  {
   "cell_type": "code",
   "execution_count": null,
   "metadata": {},
   "outputs": [],
   "source": [
    "# filter out test ID for test tenant\n",
    "df = df[df[' '] != ' ']"
   ]
  },
  {
   "cell_type": "code",
   "execution_count": null,
   "metadata": {},
   "outputs": [],
   "source": [
    "# sanity check again\n",
    "df[df[' '] == ' ']"
   ]
  },
  {
   "cell_type": "markdown",
   "metadata": {},
   "source": [
    "# total spending per month per account"
   ]
  },
  {
   "cell_type": "code",
   "execution_count": null,
   "metadata": {},
   "outputs": [],
   "source": [
    "# group by account number and month only in 2018\n",
    "df1 = df[df[' '] == 2018].groupby([' ',' '])[' '].sum().reset_index(name='TOTALSPENDPERMONTH')"
   ]
  },
  {
   "cell_type": "code",
   "execution_count": null,
   "metadata": {},
   "outputs": [],
   "source": [
    "display(df1)"
   ]
  },
  {
   "cell_type": "markdown",
   "metadata": {},
   "source": [
    "## totalSpendPerMonth normalize"
   ]
  },
  {
   "cell_type": "code",
   "execution_count": null,
   "metadata": {},
   "outputs": [],
   "source": [
    "# group by account number\n",
    "df1mean = df1.groupby([' '])['TOTALSPENDPERMONTH'].mean().reset_index(name='AVGTOTALPERYEAR')"
   ]
  },
  {
   "cell_type": "code",
   "execution_count": null,
   "metadata": {},
   "outputs": [],
   "source": [
    "display(df1mean)"
   ]
  },
  {
   "cell_type": "code",
   "execution_count": null,
   "metadata": {},
   "outputs": [],
   "source": [
    "result1 = df1.merge(df1mean)\n",
    "result1['TOTALSPENDNORM']= (result1['TOTALSPENDPERMONTH'] - result1['AVGTOTALPERYEAR']) / result1['AVGTOTALPERYEAR']"
   ]
  },
  {
   "cell_type": "code",
   "execution_count": null,
   "metadata": {},
   "outputs": [],
   "source": [
    "display(result1)"
   ]
  },
  {
   "cell_type": "markdown",
   "metadata": {},
   "source": [
    "## Z score"
   ]
  },
  {
   "cell_type": "code",
   "execution_count": null,
   "metadata": {},
   "outputs": [],
   "source": [
    "def z_score(s):\n",
    "    mean = s.mean()\n",
    "    std = s.std()\n",
    "    return s.apply(lambda x: (x - mean) / std)"
   ]
  },
  {
   "cell_type": "code",
   "execution_count": null,
   "metadata": {},
   "outputs": [],
   "source": [
    "result1['SPENDZ'] = z_score(result1['TOTALSPENDNORM'])"
   ]
  },
  {
   "cell_type": "code",
   "execution_count": null,
   "metadata": {},
   "outputs": [],
   "source": [
    "result1[result1['SPENDZ'] > 4].sort_values(['SPENDZ'], ascending=False)"
   ]
  },
  {
   "cell_type": "code",
   "execution_count": null,
   "metadata": {},
   "outputs": [],
   "source": [
    "result1[result1['SPENDZ'] < -4].sort_values(['SPENDZ'], ascending=True)"
   ]
  },
  {
   "cell_type": "markdown",
   "metadata": {},
   "source": [
    "# avg spending per month per account"
   ]
  },
  {
   "cell_type": "code",
   "execution_count": null,
   "metadata": {},
   "outputs": [],
   "source": [
    "# group by account number, month and only in 2018\n",
    "df2 = df[df[' '] == 2018].groupby(['',''])[''].mean().reset_index(name='AVGSPENDPERMONTH')"
   ]
  },
  {
   "cell_type": "code",
   "execution_count": null,
   "metadata": {},
   "outputs": [],
   "source": [
    "display(df2)"
   ]
  },
  {
   "cell_type": "markdown",
   "metadata": {},
   "source": [
    "## avg spending per account per month normalize"
   ]
  },
  {
   "cell_type": "code",
   "execution_count": null,
   "metadata": {},
   "outputs": [],
   "source": [
    "# group by account number \n",
    "df2mean = df2.groupby([' '])['AVGSPENDPERMONTH'].mean().reset_index(name='AVGSPENDPERYEAR')"
   ]
  },
  {
   "cell_type": "code",
   "execution_count": null,
   "metadata": {},
   "outputs": [],
   "source": [
    "display(df2mean)"
   ]
  },
  {
   "cell_type": "code",
   "execution_count": null,
   "metadata": {},
   "outputs": [],
   "source": [
    "result2 = df2.merge(df2mean)\n",
    "result2['AVGSPENDNORM']= (result2['AVGSPENDPERMONTH'] - result2['AVGSPENDPERYEAR']) / result2['AVGSPENDPERYEAR']"
   ]
  },
  {
   "cell_type": "code",
   "execution_count": null,
   "metadata": {},
   "outputs": [],
   "source": [
    "display(result2)"
   ]
  },
  {
   "cell_type": "markdown",
   "metadata": {},
   "source": [
    "## Zscore "
   ]
  },
  {
   "cell_type": "code",
   "execution_count": null,
   "metadata": {},
   "outputs": [],
   "source": [
    "result2['AVGSPENDZ'] = z_score(result2['AVGSPENDNORM'])"
   ]
  },
  {
   "cell_type": "code",
   "execution_count": null,
   "metadata": {},
   "outputs": [],
   "source": [
    "result2[result2['AVGSPENDZ'] > 4].sort_values(['AVGSPENDZ'], ascending=False)"
   ]
  },
  {
   "cell_type": "code",
   "execution_count": null,
   "metadata": {},
   "outputs": [],
   "source": [
    "result2[result2['AVGSPENDZ'] < -4].sort_values(['AVGSPENDZ'], ascending=True)"
   ]
  },
  {
   "cell_type": "markdown",
   "metadata": {},
   "source": [
    "# Number of transaction per month per account"
   ]
  },
  {
   "cell_type": "code",
   "execution_count": null,
   "metadata": {},
   "outputs": [],
   "source": [
    "# group by account number and month in 2018\n",
    "# count number of transaction \n",
    "df3 = df[df[''] == 2018].groupby(['',''])[''].size().reset_index(name='TRANSNUM')"
   ]
  },
  {
   "cell_type": "code",
   "execution_count": null,
   "metadata": {},
   "outputs": [],
   "source": [
    "display(df3)"
   ]
  },
  {
   "cell_type": "markdown",
   "metadata": {},
   "source": [
    "## Number of transac normalize"
   ]
  },
  {
   "cell_type": "code",
   "execution_count": null,
   "metadata": {},
   "outputs": [],
   "source": [
    "# group by account number\n",
    "df3mean = df3.groupby([''])['TRANSNUM'].mean().reset_index(name='AVGTRANSNUMPERYEAR')"
   ]
  },
  {
   "cell_type": "code",
   "execution_count": null,
   "metadata": {},
   "outputs": [],
   "source": [
    "display(df3mean)"
   ]
  },
  {
   "cell_type": "code",
   "execution_count": null,
   "metadata": {},
   "outputs": [],
   "source": [
    "result3 = df3.merge(df3mean)\n",
    "result3['TRANSNUMNORM']= (result3['TRANSNUM'] - result3['AVGTRANSNUMPERYEAR']) / result3['AVGTRANSNUMPERYEAR']"
   ]
  },
  {
   "cell_type": "code",
   "execution_count": null,
   "metadata": {},
   "outputs": [],
   "source": [
    "display(result3)"
   ]
  },
  {
   "cell_type": "markdown",
   "metadata": {},
   "source": [
    "## Z score"
   ]
  },
  {
   "cell_type": "code",
   "execution_count": null,
   "metadata": {},
   "outputs": [],
   "source": [
    "result3['TRANSNUMZ'] = z_score(result3['TRANSNUMNORM'])"
   ]
  },
  {
   "cell_type": "code",
   "execution_count": null,
   "metadata": {},
   "outputs": [],
   "source": [
    "result3[result3['TRANSNUMZ'] > 4].sort_values(['TRANSNUMZ'], ascending=False)"
   ]
  },
  {
   "cell_type": "code",
   "execution_count": null,
   "metadata": {},
   "outputs": [],
   "source": [
    "result3[result3['TRANSNUMZ'] < -4]"
   ]
  },
  {
   "cell_type": "markdown",
   "metadata": {},
   "source": [
    "# Max spend per month per account"
   ]
  },
  {
   "cell_type": "code",
   "execution_count": null,
   "metadata": {},
   "outputs": [],
   "source": [
    "# group by account number and month in 2018\n",
    "# max of spending \n",
    "df4 = df[df[''] == 2018].groupby(['',''])[''].max().reset_index(name='MAXSPENDPERMONTH')"
   ]
  },
  {
   "cell_type": "code",
   "execution_count": null,
   "metadata": {},
   "outputs": [],
   "source": [
    "display(df4)"
   ]
  },
  {
   "cell_type": "markdown",
   "metadata": {},
   "source": [
    "## Max spend per month normalize"
   ]
  },
  {
   "cell_type": "code",
   "execution_count": null,
   "metadata": {},
   "outputs": [],
   "source": [
    "# group by account number and month \n",
    "df4mean = df4.groupby([''])['MAXSPENDPERMONTH'].mean().reset_index(name='AVGMAXSPENDPERYEAR')"
   ]
  },
  {
   "cell_type": "code",
   "execution_count": null,
   "metadata": {},
   "outputs": [],
   "source": [
    "display(df4mean)"
   ]
  },
  {
   "cell_type": "code",
   "execution_count": null,
   "metadata": {},
   "outputs": [],
   "source": [
    "result4 = df4.merge(df4mean)\n",
    "result4['MAXSPENDNORM']= (result4['MAXSPENDPERMONTH'] - result4['AVGMAXSPENDPERYEAR']) / result4['AVGMAXSPENDPERYEAR']\n",
    "display(result4)"
   ]
  },
  {
   "cell_type": "markdown",
   "metadata": {},
   "source": [
    "## Z score"
   ]
  },
  {
   "cell_type": "code",
   "execution_count": null,
   "metadata": {},
   "outputs": [],
   "source": [
    "result4['MAXSPENDZ'] = z_score(result4['MAXSPENDNORM'])"
   ]
  },
  {
   "cell_type": "code",
   "execution_count": null,
   "metadata": {},
   "outputs": [],
   "source": [
    "result4[result4['MAXSPENDZ'] > 4]"
   ]
  },
  {
   "cell_type": "code",
   "execution_count": null,
   "metadata": {},
   "outputs": [],
   "source": [
    "result4[result4['MAXSPENDZ'] < -4]"
   ]
  },
  {
   "cell_type": "markdown",
   "metadata": {},
   "source": [
    "# Max earn point per month per account "
   ]
  },
  {
   "cell_type": "code",
   "execution_count": null,
   "metadata": {},
   "outputs": [],
   "source": [
    "# group by account number, month in 2018\n",
    "# get max of earn point \n",
    "df5 = df[df[''] == 2018].groupby(['',''])[''].max().reset_index(name='MAXEARNPERMONTH')"
   ]
  },
  {
   "cell_type": "code",
   "execution_count": null,
   "metadata": {},
   "outputs": [],
   "source": [
    "display(df5)"
   ]
  },
  {
   "cell_type": "markdown",
   "metadata": {},
   "source": [
    "## Max earn point normalize"
   ]
  },
  {
   "cell_type": "code",
   "execution_count": null,
   "metadata": {},
   "outputs": [],
   "source": [
    "# group by account number\n",
    "df5mean = df5.groupby([''])['MAXEARNPERMONTH'].mean().reset_index(name='AVGMAXEARNPERYEAR')"
   ]
  },
  {
   "cell_type": "code",
   "execution_count": null,
   "metadata": {},
   "outputs": [],
   "source": [
    "display(df5mean)"
   ]
  },
  {
   "cell_type": "code",
   "execution_count": null,
   "metadata": {},
   "outputs": [],
   "source": [
    "result5 = df5.merge(df5mean)\n",
    "result5['MAXEARNNORM']= (result5['MAXEARNPERMONTH'] - result5['AVGMAXEARNPERYEAR']) / result5['AVGMAXEARNPERYEAR']"
   ]
  },
  {
   "cell_type": "code",
   "execution_count": null,
   "metadata": {},
   "outputs": [],
   "source": [
    "display(result5)"
   ]
  },
  {
   "cell_type": "markdown",
   "metadata": {},
   "source": [
    "## Z score"
   ]
  },
  {
   "cell_type": "code",
   "execution_count": null,
   "metadata": {},
   "outputs": [],
   "source": [
    "result5['MAXEARNZ'] = z_score(result5['MAXEARNNORM'])"
   ]
  },
  {
   "cell_type": "code",
   "execution_count": null,
   "metadata": {},
   "outputs": [],
   "source": [
    "result5[result5['MAXEARNZ'] > 4].sort_values(['MAXEARNZ'], ascending=False)"
   ]
  },
  {
   "cell_type": "code",
   "execution_count": null,
   "metadata": {},
   "outputs": [],
   "source": [
    "result5[result5['MAXEARNZ'] < -4].sort_values(['MAXEARNZ'], ascending=True)"
   ]
  },
  {
   "cell_type": "markdown",
   "metadata": {},
   "source": [
    "# Average earn point per month per account"
   ]
  },
  {
   "cell_type": "code",
   "execution_count": null,
   "metadata": {},
   "outputs": [],
   "source": [
    "# group by account number and month in 2018\n",
    "# mean aggregation of point earned\n",
    "df6 = df[df[''] == 2018].groupby(['',''])[''].mean().reset_index(name='AVGEARNPOINT')"
   ]
  },
  {
   "cell_type": "code",
   "execution_count": null,
   "metadata": {},
   "outputs": [],
   "source": [
    "display(df6)"
   ]
  },
  {
   "cell_type": "markdown",
   "metadata": {},
   "source": [
    "## Avg earn normalize"
   ]
  },
  {
   "cell_type": "code",
   "execution_count": null,
   "metadata": {},
   "outputs": [],
   "source": [
    "# group by account number\n",
    "df6mean = df6.groupby([''])['AVGEARNPOINT'].mean().reset_index(name='AVGEARNPERYEAR')"
   ]
  },
  {
   "cell_type": "code",
   "execution_count": null,
   "metadata": {},
   "outputs": [],
   "source": [
    "display(df6mean)"
   ]
  },
  {
   "cell_type": "code",
   "execution_count": null,
   "metadata": {},
   "outputs": [],
   "source": [
    "result6 = df6.merge(df6mean)\n",
    "result6['AVGEARNNORM']= (result6['AVGEARNPOINT'] - result6['AVGEARNPERYEAR']) / result6['AVGEARNPERYEAR']"
   ]
  },
  {
   "cell_type": "code",
   "execution_count": null,
   "metadata": {},
   "outputs": [],
   "source": [
    "display(result6)"
   ]
  },
  {
   "cell_type": "markdown",
   "metadata": {},
   "source": [
    "## Z score"
   ]
  },
  {
   "cell_type": "code",
   "execution_count": null,
   "metadata": {},
   "outputs": [],
   "source": [
    "result6['AVGEARNZ'] = z_score(result6['AVGEARNNORM'])"
   ]
  },
  {
   "cell_type": "code",
   "execution_count": null,
   "metadata": {},
   "outputs": [],
   "source": [
    "result6[result6['AVGEARNZ'] > 4].sort_values(['AVGEARNZ'], ascending=False)"
   ]
  },
  {
   "cell_type": "code",
   "execution_count": null,
   "metadata": {},
   "outputs": [],
   "source": [
    "result6[result6['AVGEARNZ'] < -4].sort_values(['AVGEARNZ'], ascending=True)"
   ]
  },
  {
   "cell_type": "markdown",
   "metadata": {},
   "source": [
    "# Max burn point per month per account"
   ]
  },
  {
   "cell_type": "code",
   "execution_count": null,
   "metadata": {},
   "outputs": [],
   "source": [
    "# Max burn point per month per account\n",
    "sql10 = \"\"\" WITH MPxMPD (MBID, BURNPOINT, BURNMONTH) AS\n",
    "            ( taken out for privacy reason\n",
    "            )\n",
    "             \n",
    "           , BURNxPROFILE(ACCOUNTNUM, MAXBURNPOINT, MONTH) AS\n",
    "            ( taken out for privacy reason\n",
    "             )\n",
    "        SELECT *\n",
    "        FROM BURNxPROFILE\n",
    "        \"\"\"\n",
    "\n",
    "df7 = pd.read_sql(sql10, conn_wrap)"
   ]
  },
  {
   "cell_type": "markdown",
   "metadata": {},
   "source": [
    "## max burn point normalize"
   ]
  },
  {
   "cell_type": "code",
   "execution_count": null,
   "metadata": {},
   "outputs": [],
   "source": [
    "# group by account number\n",
    "df7mean = df7.groupby([''])['MAXBURNPOINT'].mean().reset_index(name='AVGMAXBURNPERYEAR')\n",
    "#display(df7mean)"
   ]
  },
  {
   "cell_type": "code",
   "execution_count": null,
   "metadata": {},
   "outputs": [],
   "source": [
    "result7 = df7.merge(df7mean)\n",
    "result7['MAXBURNNORM']= (result7['MAXBURNPOINT'] - result7['AVGMAXBURNPERYEAR']) / result7['AVGMAXBURNPERYEAR']\n",
    "#display(result7)"
   ]
  },
  {
   "cell_type": "markdown",
   "metadata": {},
   "source": [
    "## Z score"
   ]
  },
  {
   "cell_type": "code",
   "execution_count": null,
   "metadata": {},
   "outputs": [],
   "source": [
    "result7['MAXBURNZ'] = z_score(result7['MAXBURNNORM'])"
   ]
  },
  {
   "cell_type": "code",
   "execution_count": null,
   "metadata": {},
   "outputs": [],
   "source": [
    "result7[result7['MAXBURNZ'] > 4].sort_values(['MAXBURNZ'], ascending=False)"
   ]
  },
  {
   "cell_type": "code",
   "execution_count": null,
   "metadata": {},
   "outputs": [],
   "source": [
    "result7[result7['MAXBURNZ'] < -4]"
   ]
  },
  {
   "cell_type": "markdown",
   "metadata": {},
   "source": [
    "# Average burn point per month per account"
   ]
  },
  {
   "cell_type": "code",
   "execution_count": null,
   "metadata": {},
   "outputs": [],
   "source": [
    "sql11 = \"\"\"\n",
    "        WITH MPxMPD (MBID, BURNPOINT, BURNMONTH) AS\n",
    "            ( ...... taken out for privacy reason ....\n",
    "            )\n",
    "        \n",
    "           , BURNxPROFILE(ACCOUNTNUM, AVGBURNPOINT, MONTH) AS\n",
    "            ( ...... taken out for privacy reason ....\n",
    "            )\n",
    "             \n",
    "        SELECT *\n",
    "        FROM BURNxPROFILE\n",
    "        \n",
    "        \n",
    "        \"\"\"\n",
    "\n",
    "df8 = pd.read_sql(sql11, conn_wrap)"
   ]
  },
  {
   "cell_type": "markdown",
   "metadata": {},
   "source": [
    "## avg burn point normalize"
   ]
  },
  {
   "cell_type": "code",
   "execution_count": null,
   "metadata": {},
   "outputs": [],
   "source": [
    "# group by account number\n",
    "df8mean = df8.groupby([''])['AVGBURNPOINT'].mean().reset_index(name='AVGBURNPERYEAR')\n",
    "#display(df8mean)"
   ]
  },
  {
   "cell_type": "code",
   "execution_count": null,
   "metadata": {},
   "outputs": [],
   "source": [
    "result8 = df8.merge(df8mean)\n",
    "result8['AVGBURNNORM']= (result8['AVGBURNPOINT'] - result8['AVGBURNPERYEAR']) / result8['AVGBURNPERYEAR']\n",
    "#display(result8)"
   ]
  },
  {
   "cell_type": "markdown",
   "metadata": {},
   "source": [
    "## Z score"
   ]
  },
  {
   "cell_type": "code",
   "execution_count": null,
   "metadata": {},
   "outputs": [],
   "source": [
    "result8['AVGBURNZ'] = z_score(result8['AVGBURNNORM'])"
   ]
  },
  {
   "cell_type": "code",
   "execution_count": null,
   "metadata": {},
   "outputs": [],
   "source": [
    "result8stdmore = result8[result8['AVGBURNZ'] > 4]"
   ]
  },
  {
   "cell_type": "code",
   "execution_count": null,
   "metadata": {},
   "outputs": [],
   "source": [
    "result8stdmore"
   ]
  },
  {
   "cell_type": "code",
   "execution_count": null,
   "metadata": {},
   "outputs": [],
   "source": [
    "result8stdmore.sort_values(['AVGBURNZ'], ascending=False)"
   ]
  },
  {
   "cell_type": "code",
   "execution_count": null,
   "metadata": {},
   "outputs": [],
   "source": [
    "result8[result8['AVGBURNZ'] < -4]"
   ]
  },
  {
   "cell_type": "markdown",
   "metadata": {},
   "source": [
    "# Combine data frames"
   ]
  },
  {
   "cell_type": "markdown",
   "metadata": {},
   "source": [
    "## sort dataframes"
   ]
  },
  {
   "cell_type": "code",
   "execution_count": null,
   "metadata": {},
   "outputs": [],
   "source": [
    "result1 = result1.sort_index(axis=0)\n",
    "result2 = result2.sort_index(axis=0)\n",
    "result3 = result3.sort_index(axis=0)\n",
    "result4 = result4.sort_index(axis=0)\n",
    "result5 = result5.sort_index(axis=0)\n",
    "result6 = result6.sort_index(axis=0)\n",
    "result7 = result7.sort_index(axis=0)\n",
    "result8 = result8.sort_index(axis=0)"
   ]
  },
  {
   "cell_type": "markdown",
   "metadata": {},
   "source": [
    "## Join frames"
   ]
  },
  {
   "cell_type": "code",
   "execution_count": null,
   "metadata": {},
   "outputs": [],
   "source": [
    "# first 2 columns is account number and month\n",
    "frames = [result1.loc[:,['','','TOTALSPENDNORM']], \n",
    "          result2.loc[:,['','','AVGSPENDNORM']], \n",
    "          result3.loc[:,['','','TRANSNUMNORM']], \n",
    "          result4.loc[:,['','','MAXSPENDNORM']], \n",
    "          result5.loc[:,['','','MAXEARNNORM']], \n",
    "          result6.loc[:,['','','AVGEARNNORM']],\n",
    "          result7.loc[:,['','','MAXBURNNORM']],\n",
    "          result8.loc[:,['','','AVGBURNNORM']]\n",
    "         ]"
   ]
  },
  {
   "cell_type": "code",
   "execution_count": null,
   "metadata": {},
   "outputs": [],
   "source": [
    "# set index to account number and month\n",
    "r12 = frames[0].set_index(['', '']).join(frames[1].set_index(['', '']))"
   ]
  },
  {
   "cell_type": "code",
   "execution_count": null,
   "metadata": {},
   "outputs": [],
   "source": [
    "r12"
   ]
  },
  {
   "cell_type": "code",
   "execution_count": null,
   "metadata": {},
   "outputs": [],
   "source": [
    "# set index to account number and month\n",
    "r123 = r12.join(frames[2].set_index(['', '']))"
   ]
  },
  {
   "cell_type": "code",
   "execution_count": null,
   "metadata": {},
   "outputs": [],
   "source": [
    "r123"
   ]
  },
  {
   "cell_type": "code",
   "execution_count": null,
   "metadata": {},
   "outputs": [],
   "source": [
    "# set index to account number and month\n",
    "r1234 = r123.join(frames[3].set_index(['', '']))"
   ]
  },
  {
   "cell_type": "code",
   "execution_count": null,
   "metadata": {},
   "outputs": [],
   "source": [
    "r1234"
   ]
  },
  {
   "cell_type": "code",
   "execution_count": null,
   "metadata": {},
   "outputs": [],
   "source": [
    "# set index to account number and month\n",
    "r12345 = r1234.join(frames[4].set_index(['', '']))"
   ]
  },
  {
   "cell_type": "code",
   "execution_count": null,
   "metadata": {},
   "outputs": [],
   "source": [
    "r12345"
   ]
  },
  {
   "cell_type": "code",
   "execution_count": null,
   "metadata": {},
   "outputs": [],
   "source": [
    "# set index to account number and month\n",
    "r123456 = r12345.join(frames[5].set_index(['', '']))"
   ]
  },
  {
   "cell_type": "code",
   "execution_count": null,
   "metadata": {},
   "outputs": [],
   "source": [
    "r123456"
   ]
  },
  {
   "cell_type": "code",
   "execution_count": null,
   "metadata": {},
   "outputs": [],
   "source": [
    "# set index to account number and month\n",
    "r1234567 = r123456.join(frames[6].set_index(['', '']))"
   ]
  },
  {
   "cell_type": "code",
   "execution_count": null,
   "metadata": {},
   "outputs": [],
   "source": [
    "r1234567 = r1234567.replace(np.nan, -1)"
   ]
  },
  {
   "cell_type": "code",
   "execution_count": null,
   "metadata": {},
   "outputs": [],
   "source": [
    "r1234567"
   ]
  },
  {
   "cell_type": "code",
   "execution_count": null,
   "metadata": {},
   "outputs": [],
   "source": [
    "# set index to account number and month\n",
    "r12345678 = r1234567.join(frames[7].set_index(['', '']))"
   ]
  },
  {
   "cell_type": "code",
   "execution_count": null,
   "metadata": {},
   "outputs": [],
   "source": [
    "r12345678 = r12345678.replace(np.nan, -1)"
   ]
  },
  {
   "cell_type": "code",
   "execution_count": null,
   "metadata": {},
   "outputs": [],
   "source": [
    "r12345678.describe()"
   ]
  },
  {
   "cell_type": "code",
   "execution_count": null,
   "metadata": {},
   "outputs": [],
   "source": [
    "r12345678 = r12345678.reset_index()\n",
    "r12345678 = r12345678[r12345678[''] != ''] # take out a certain account number \n",
    "# set index to account number and month\n",
    "r12345678 = r12345678.set_index(['',''])"
   ]
  },
  {
   "cell_type": "code",
   "execution_count": null,
   "metadata": {},
   "outputs": [],
   "source": [
    "save = r12345678.reset_index()"
   ]
  },
  {
   "cell_type": "code",
   "execution_count": null,
   "metadata": {},
   "outputs": [],
   "source": [
    "save"
   ]
  },
  {
   "cell_type": "code",
   "execution_count": null,
   "metadata": {},
   "outputs": [],
   "source": [
    "# check for duplicate in account number and month\n",
    "burn_error = save.reset_index().duplicated(subset=['',''], keep='first')"
   ]
  },
  {
   "cell_type": "code",
   "execution_count": null,
   "metadata": {},
   "outputs": [],
   "source": [
    "burn_error.index[burn_error]"
   ]
  },
  {
   "cell_type": "markdown",
   "metadata": {},
   "source": [
    "## ranking by z score"
   ]
  },
  {
   "cell_type": "code",
   "execution_count": null,
   "metadata": {},
   "outputs": [],
   "source": [
    "r12345678[(r12345678['SPENDZ'] > 4) &\n",
    "          (r12345678['AVGSPENDZ'] > 4) &\n",
    "          (r12345678['TRANSNUMZ'] > 4) &\n",
    "          (r12345678['MAXSPENDZ'] > 4)&\n",
    "          (r12345678['MAXEARNZ'] > 4) &\n",
    "          (r12345678['AVGEARNZ'] > 4) &\n",
    "          (r12345678['MAXBURNZ'] > 4) &\n",
    "          (r12345678['AVGBURNZ'] > 4)].sort_values(\n",
    "    ['SPENDZ','AVGSPENDZ','TRANSNUMZ','MAXSPENDZ','MAXEARNZ','AVGEARNZ','MAXBURNZ','AVGBURNZ'], ascending=False)"
   ]
  },
  {
   "cell_type": "code",
   "execution_count": null,
   "metadata": {},
   "outputs": [],
   "source": [
    "rank = r12345678.sort_values(\n",
    "    ['SPENDZ','AVGSPENDZ','TRANSNUMZ','MAXSPENDZ','MAXEARNZ','AVGEARNZ','MAXBURNZ','AVGBURNZ'], ascending=False)"
   ]
  },
  {
   "cell_type": "code",
   "execution_count": null,
   "metadata": {},
   "outputs": [],
   "source": [
    "rank[0:20]"
   ]
  },
  {
   "cell_type": "markdown",
   "metadata": {},
   "source": [
    "## export to xlsx"
   ]
  },
  {
   "cell_type": "code",
   "execution_count": null,
   "metadata": {},
   "outputs": [],
   "source": [
    "writer = pd.ExcelWriter('dbscan.xlsx')\n",
    "save.to_excel(writer,'Sheet1',index=False)\n",
    "writer.save()"
   ]
  },
  {
   "cell_type": "markdown",
   "metadata": {},
   "source": [
    "# Filter out top spender of 2017"
   ]
  },
  {
   "cell_type": "code",
   "execution_count": null,
   "metadata": {},
   "outputs": [],
   "source": [
    "# group by account numbe in 2017 only\n",
    "# aggregate sum over the sales amount\n",
    "top_spend = df[df[''] == 2017].groupby([''])[''].sum().reset_index(name='TOTALSPEND').sort_values(['TOTALSPEND'],ascending=False)"
   ]
  },
  {
   "cell_type": "code",
   "execution_count": null,
   "metadata": {},
   "outputs": [],
   "source": [
    "# set index to account number\n",
    "top_spend.set_index('')"
   ]
  },
  {
   "cell_type": "code",
   "execution_count": null,
   "metadata": {},
   "outputs": [],
   "source": [
    "# set index to account number\n",
    "top_spend = top_spend[top_spend.TOTALSPEND > np.percentile(top_spend.TOTALSPEND, 99.9)].set_index('')"
   ]
  },
  {
   "cell_type": "code",
   "execution_count": null,
   "metadata": {},
   "outputs": [],
   "source": [
    "filt = top_spend.reset_index()"
   ]
  },
  {
   "cell_type": "code",
   "execution_count": null,
   "metadata": {},
   "outputs": [],
   "source": [
    "filt"
   ]
  },
  {
   "cell_type": "code",
   "execution_count": null,
   "metadata": {},
   "outputs": [],
   "source": [
    "save"
   ]
  },
  {
   "cell_type": "code",
   "execution_count": null,
   "metadata": {},
   "outputs": [],
   "source": [
    "# check if accounts in 2017 exits in 2018 \n",
    "save = save[~save.ACCOUNTNUM.isin(list(filt['']))]"
   ]
  }
 ],
 "metadata": {
  "kernelspec": {
   "display_name": "Python 3",
   "language": "python",
   "name": "python3"
  },
  "language_info": {
   "codemirror_mode": {
    "name": "ipython",
    "version": 3
   },
   "file_extension": ".py",
   "mimetype": "text/x-python",
   "name": "python",
   "nbconvert_exporter": "python",
   "pygments_lexer": "ipython3",
   "version": "3.6.5"
  }
 },
 "nbformat": 4,
 "nbformat_minor": 2
}
